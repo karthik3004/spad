{
 "cells": [
  {
   "cell_type": "code",
   "execution_count": 17,
   "metadata": {},
   "outputs": [],
   "source": [
    "import pandas as pd\n",
    "import matplotlib.pyplot as plt\n",
    "import matplotlib as mpl"
   ]
  },
  {
   "cell_type": "code",
   "execution_count": 18,
   "metadata": {},
   "outputs": [],
   "source": [
    "df = pd.read_excel('optical_fits.xlsx')"
   ]
  },
  {
   "cell_type": "code",
   "execution_count": 19,
   "metadata": {},
   "outputs": [
    {
     "data": {
      "text/html": [
       "<div>\n",
       "<style scoped>\n",
       "    .dataframe tbody tr th:only-of-type {\n",
       "        vertical-align: middle;\n",
       "    }\n",
       "\n",
       "    .dataframe tbody tr th {\n",
       "        vertical-align: top;\n",
       "    }\n",
       "\n",
       "    .dataframe thead th {\n",
       "        text-align: right;\n",
       "    }\n",
       "</style>\n",
       "<table border=\"1\" class=\"dataframe\">\n",
       "  <thead>\n",
       "    <tr style=\"text-align: right;\">\n",
       "      <th></th>\n",
       "      <th>Wavelength</th>\n",
       "      <th>N</th>\n",
       "      <th>K</th>\n",
       "    </tr>\n",
       "  </thead>\n",
       "  <tbody>\n",
       "    <tr>\n",
       "      <th>0</th>\n",
       "      <td>400</td>\n",
       "      <td>2.078458</td>\n",
       "      <td>5.010000e-07</td>\n",
       "    </tr>\n",
       "    <tr>\n",
       "      <th>1</th>\n",
       "      <td>410</td>\n",
       "      <td>2.071112</td>\n",
       "      <td>5.420000e-07</td>\n",
       "    </tr>\n",
       "    <tr>\n",
       "      <th>2</th>\n",
       "      <td>420</td>\n",
       "      <td>2.065442</td>\n",
       "      <td>5.850000e-07</td>\n",
       "    </tr>\n",
       "    <tr>\n",
       "      <th>3</th>\n",
       "      <td>430</td>\n",
       "      <td>2.060904</td>\n",
       "      <td>6.300000e-07</td>\n",
       "    </tr>\n",
       "    <tr>\n",
       "      <th>4</th>\n",
       "      <td>440</td>\n",
       "      <td>2.057165</td>\n",
       "      <td>6.770000e-07</td>\n",
       "    </tr>\n",
       "    <tr>\n",
       "      <th>...</th>\n",
       "      <td>...</td>\n",
       "      <td>...</td>\n",
       "      <td>...</td>\n",
       "    </tr>\n",
       "    <tr>\n",
       "      <th>76</th>\n",
       "      <td>1160</td>\n",
       "      <td>1.953721</td>\n",
       "      <td>7.624680e-03</td>\n",
       "    </tr>\n",
       "    <tr>\n",
       "      <th>77</th>\n",
       "      <td>1170</td>\n",
       "      <td>1.967416</td>\n",
       "      <td>6.862215e-02</td>\n",
       "    </tr>\n",
       "    <tr>\n",
       "      <th>78</th>\n",
       "      <td>1180</td>\n",
       "      <td>1.995796</td>\n",
       "      <td>8.546057e-03</td>\n",
       "    </tr>\n",
       "    <tr>\n",
       "      <th>79</th>\n",
       "      <td>1190</td>\n",
       "      <td>1.984086</td>\n",
       "      <td>2.253583e-03</td>\n",
       "    </tr>\n",
       "    <tr>\n",
       "      <th>80</th>\n",
       "      <td>1200</td>\n",
       "      <td>1.978829</td>\n",
       "      <td>9.992910e-04</td>\n",
       "    </tr>\n",
       "  </tbody>\n",
       "</table>\n",
       "<p>81 rows × 3 columns</p>\n",
       "</div>"
      ],
      "text/plain": [
       "    Wavelength         N             K\n",
       "0          400  2.078458  5.010000e-07\n",
       "1          410  2.071112  5.420000e-07\n",
       "2          420  2.065442  5.850000e-07\n",
       "3          430  2.060904  6.300000e-07\n",
       "4          440  2.057165  6.770000e-07\n",
       "..         ...       ...           ...\n",
       "76        1160  1.953721  7.624680e-03\n",
       "77        1170  1.967416  6.862215e-02\n",
       "78        1180  1.995796  8.546057e-03\n",
       "79        1190  1.984086  2.253583e-03\n",
       "80        1200  1.978829  9.992910e-04\n",
       "\n",
       "[81 rows x 3 columns]"
      ]
     },
     "execution_count": 19,
     "metadata": {},
     "output_type": "execute_result"
    }
   ],
   "source": [
    "df"
   ]
  },
  {
   "cell_type": "code",
   "execution_count": 27,
   "metadata": {},
   "outputs": [
    {
     "name": "stderr",
     "output_type": "stream",
     "text": [
      "C:\\Users\\karth\\AppData\\Local\\Temp\\ipykernel_1736\\3192464044.py:20: UserWarning: Matplotlib is currently using module://matplotlib_inline.backend_inline, which is a non-GUI backend, so cannot show the figure.\n",
      "  fig.show()\n"
     ]
    },
    {
     "data": {
      "image/png": "[encoded data removed]",
      "text/plain": [
       "<Figure size 640x480 with 2 Axes>"
      ]
     },
     "metadata": {},
     "output_type": "display_data"
    }
   ],
   "source": [
    "mpl.rc('mathtext', default='regular')\n",
    "mpl.rcParams['mathtext.default'] = 'regular'\n",
    "fig = plt.figure()\n",
    "ax = fig.add_subplot(111)\n",
    "ax2 = ax.twinx()\n",
    "plt.rcParams['text.usetex'] = True\n",
    "marker_size = 20\n",
    "# plt.tight_layout()\n",
    "\n",
    "ax.plot(df['Wavelength'], df['N'], color = 'blue', label = 'N', marker='o')\n",
    "ax2.plot(df['Wavelength'], df['K'], color = 'green', label = 'K', marker='^')\n",
    "ax.set_xlabel(\"Wavelength (nm)\", fontsize = 12)\n",
    "ax.set_ylabel(\"N\", fontsize = 12)\n",
    "ax2.set_ylabel(\"K\", fontsize = 12)\n",
    "ax.tick_params(axis='y', colors = 'blue')\n",
    "ax2.tick_params(axis='y', colors = 'green')\n",
    "ax.set_axisbelow(True)\n",
    "plt.title('N and K of LPCVD SiN', fontsize = 14)\n",
    "plt.savefig('absorption_transmission_SiN.pdf', format='pdf')\n",
    "fig.show()"
   ]
  },
  {
   "cell_type": "code",
   "execution_count": null,
   "metadata": {},
   "outputs": [],
   "source": []
  }
 ],
 "metadata": {
  "kernelspec": {
   "display_name": "Data_Analysis",
   "language": "python",
   "name": "python3"
  },
  "language_info": {
   "codemirror_mode": {
    "name": "ipython",
    "version": 3
   },
   "file_extension": ".py",
   "mimetype": "text/x-python",
   "name": "python",
   "nbconvert_exporter": "python",
   "pygments_lexer": "ipython3",
   "version": "3.11.3"
  },
  "orig_nbformat": 4
 },
 "nbformat": 4,
 "nbformat_minor": 2
}
