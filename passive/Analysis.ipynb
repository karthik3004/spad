{
 "cells": [
  {
   "cell_type": "code",
   "execution_count": 89,
   "metadata": {},
   "outputs": [],
   "source": [
    "import pandas as pd\n",
    "import plotly_express as px\n",
    "import numpy as np\n",
    "from scipy import stats\n",
    "import plotly.graph_objs as go\n",
    "import plotly.io as pio\n",
    "import io"
   ]
  },
  {
   "attachments": {},
   "cell_type": "markdown",
   "metadata": {},
   "source": [
    "# Data Formatting and cleaning"
   ]
  },
  {
   "cell_type": "code",
   "execution_count": 90,
   "metadata": {},
   "outputs": [],
   "source": [
    "df = pd.read_excel('Edge Coupling .xlsx', skiprows=3)"
   ]
  },
  {
   "cell_type": "code",
   "execution_count": 91,
   "metadata": {},
   "outputs": [],
   "source": [
    "df = df.iloc[:, :-1]"
   ]
  },
  {
   "cell_type": "code",
   "execution_count": 92,
   "metadata": {},
   "outputs": [
    {
     "data": {
      "text/html": [
       "<div>\n",
       "<style scoped>\n",
       "    .dataframe tbody tr th:only-of-type {\n",
       "        vertical-align: middle;\n",
       "    }\n",
       "\n",
       "    .dataframe tbody tr th {\n",
       "        vertical-align: top;\n",
       "    }\n",
       "\n",
       "    .dataframe thead th {\n",
       "        text-align: right;\n",
       "    }\n",
       "</style>\n",
       "<table border=\"1\" class=\"dataframe\">\n",
       "  <thead>\n",
       "    <tr style=\"text-align: right;\">\n",
       "      <th></th>\n",
       "      <th>Coupling length(um)</th>\n",
       "      <th>Input Position</th>\n",
       "      <th>Output Position</th>\n",
       "      <th>Power (mW)</th>\n",
       "      <th>Error (mW)</th>\n",
       "    </tr>\n",
       "  </thead>\n",
       "  <tbody>\n",
       "    <tr>\n",
       "      <th>0</th>\n",
       "      <td>15</td>\n",
       "      <td>8</td>\n",
       "      <td>8</td>\n",
       "      <td>1.142000</td>\n",
       "      <td>0.013000</td>\n",
       "    </tr>\n",
       "    <tr>\n",
       "      <th>1</th>\n",
       "      <td>15</td>\n",
       "      <td>8</td>\n",
       "      <td>9</td>\n",
       "      <td>0.035400</td>\n",
       "      <td>0.000270</td>\n",
       "    </tr>\n",
       "    <tr>\n",
       "      <th>2</th>\n",
       "      <td>15</td>\n",
       "      <td>8</td>\n",
       "      <td>10</td>\n",
       "      <td>0.001189</td>\n",
       "      <td>0.000010</td>\n",
       "    </tr>\n",
       "    <tr>\n",
       "      <th>3</th>\n",
       "      <td>15</td>\n",
       "      <td>8</td>\n",
       "      <td>11</td>\n",
       "      <td>0.000058</td>\n",
       "      <td>0.000001</td>\n",
       "    </tr>\n",
       "    <tr>\n",
       "      <th>4</th>\n",
       "      <td>20</td>\n",
       "      <td>15</td>\n",
       "      <td>15</td>\n",
       "      <td>1.153000</td>\n",
       "      <td>0.007000</td>\n",
       "    </tr>\n",
       "    <tr>\n",
       "      <th>5</th>\n",
       "      <td>20</td>\n",
       "      <td>15</td>\n",
       "      <td>16</td>\n",
       "      <td>0.051200</td>\n",
       "      <td>0.000500</td>\n",
       "    </tr>\n",
       "    <tr>\n",
       "      <th>6</th>\n",
       "      <td>20</td>\n",
       "      <td>15</td>\n",
       "      <td>17</td>\n",
       "      <td>0.002570</td>\n",
       "      <td>0.000040</td>\n",
       "    </tr>\n",
       "    <tr>\n",
       "      <th>7</th>\n",
       "      <td>20</td>\n",
       "      <td>15</td>\n",
       "      <td>18</td>\n",
       "      <td>0.000133</td>\n",
       "      <td>0.000002</td>\n",
       "    </tr>\n",
       "  </tbody>\n",
       "</table>\n",
       "</div>"
      ],
      "text/plain": [
       "   Coupling length(um)  Input Position  Output Position  Power (mW)   \n",
       "0                   15               8                8    1.142000  \\\n",
       "1                   15               8                9    0.035400   \n",
       "2                   15               8               10    0.001189   \n",
       "3                   15               8               11    0.000058   \n",
       "4                   20              15               15    1.153000   \n",
       "5                   20              15               16    0.051200   \n",
       "6                   20              15               17    0.002570   \n",
       "7                   20              15               18    0.000133   \n",
       "\n",
       "   Error (mW)  \n",
       "0    0.013000  \n",
       "1    0.000270  \n",
       "2    0.000010  \n",
       "3    0.000001  \n",
       "4    0.007000  \n",
       "5    0.000500  \n",
       "6    0.000040  \n",
       "7    0.000002  "
      ]
     },
     "execution_count": 92,
     "metadata": {},
     "output_type": "execute_result"
    }
   ],
   "source": [
    "df"
   ]
  },
  {
   "cell_type": "code",
   "execution_count": 93,
   "metadata": {},
   "outputs": [],
   "source": [
    "input_power = 28.61     # mW\n",
    "input_power_error = 0.08    # mW"
   ]
  },
  {
   "attachments": {},
   "cell_type": "markdown",
   "metadata": {},
   "source": [
    "## Adding Log data column"
   ]
  },
  {
   "cell_type": "code",
   "execution_count": 94,
   "metadata": {},
   "outputs": [],
   "source": [
    "df['log_fractional_power'] = np.log10(df['Power (mW)']/input_power)\n",
    "df['loss'] = input_power - df['Power (mW)']\n",
    "df['log_loss'] = np.log10(df['loss']/input_power)"
   ]
  },
  {
   "cell_type": "code",
   "execution_count": 95,
   "metadata": {},
   "outputs": [],
   "source": [
    "df['Relative Position'] = df['Output Position'] - df['Input Position'] + 1"
   ]
  },
  {
   "cell_type": "code",
   "execution_count": 96,
   "metadata": {},
   "outputs": [
    {
     "data": {
      "text/html": [
       "<div>\n",
       "<style scoped>\n",
       "    .dataframe tbody tr th:only-of-type {\n",
       "        vertical-align: middle;\n",
       "    }\n",
       "\n",
       "    .dataframe tbody tr th {\n",
       "        vertical-align: top;\n",
       "    }\n",
       "\n",
       "    .dataframe thead th {\n",
       "        text-align: right;\n",
       "    }\n",
       "</style>\n",
       "<table border=\"1\" class=\"dataframe\">\n",
       "  <thead>\n",
       "    <tr style=\"text-align: right;\">\n",
       "      <th></th>\n",
       "      <th>Coupling length(um)</th>\n",
       "      <th>Input Position</th>\n",
       "      <th>Output Position</th>\n",
       "      <th>Power (mW)</th>\n",
       "      <th>Error (mW)</th>\n",
       "      <th>log_fractional_power</th>\n",
       "      <th>loss</th>\n",
       "      <th>log_loss</th>\n",
       "      <th>Relative Position</th>\n",
       "    </tr>\n",
       "  </thead>\n",
       "  <tbody>\n",
       "    <tr>\n",
       "      <th>0</th>\n",
       "      <td>15</td>\n",
       "      <td>8</td>\n",
       "      <td>8</td>\n",
       "      <td>1.142000</td>\n",
       "      <td>0.013000</td>\n",
       "      <td>-1.398852</td>\n",
       "      <td>27.468000</td>\n",
       "      <td>-1.769082e-02</td>\n",
       "      <td>1</td>\n",
       "    </tr>\n",
       "    <tr>\n",
       "      <th>1</th>\n",
       "      <td>15</td>\n",
       "      <td>8</td>\n",
       "      <td>9</td>\n",
       "      <td>0.035400</td>\n",
       "      <td>0.000270</td>\n",
       "      <td>-2.907515</td>\n",
       "      <td>28.574600</td>\n",
       "      <td>-5.376981e-04</td>\n",
       "      <td>2</td>\n",
       "    </tr>\n",
       "    <tr>\n",
       "      <th>2</th>\n",
       "      <td>15</td>\n",
       "      <td>8</td>\n",
       "      <td>10</td>\n",
       "      <td>0.001189</td>\n",
       "      <td>0.000010</td>\n",
       "      <td>-4.381336</td>\n",
       "      <td>28.608811</td>\n",
       "      <td>-1.804917e-05</td>\n",
       "      <td>3</td>\n",
       "    </tr>\n",
       "    <tr>\n",
       "      <th>3</th>\n",
       "      <td>15</td>\n",
       "      <td>8</td>\n",
       "      <td>11</td>\n",
       "      <td>0.000058</td>\n",
       "      <td>0.000001</td>\n",
       "      <td>-5.693090</td>\n",
       "      <td>28.609942</td>\n",
       "      <td>-8.804301e-07</td>\n",
       "      <td>4</td>\n",
       "    </tr>\n",
       "    <tr>\n",
       "      <th>4</th>\n",
       "      <td>20</td>\n",
       "      <td>15</td>\n",
       "      <td>15</td>\n",
       "      <td>1.153000</td>\n",
       "      <td>0.007000</td>\n",
       "      <td>-1.394689</td>\n",
       "      <td>27.457000</td>\n",
       "      <td>-1.786477e-02</td>\n",
       "      <td>1</td>\n",
       "    </tr>\n",
       "    <tr>\n",
       "      <th>5</th>\n",
       "      <td>20</td>\n",
       "      <td>15</td>\n",
       "      <td>16</td>\n",
       "      <td>0.051200</td>\n",
       "      <td>0.000500</td>\n",
       "      <td>-2.747248</td>\n",
       "      <td>28.558800</td>\n",
       "      <td>-7.779028e-04</td>\n",
       "      <td>2</td>\n",
       "    </tr>\n",
       "    <tr>\n",
       "      <th>6</th>\n",
       "      <td>20</td>\n",
       "      <td>15</td>\n",
       "      <td>17</td>\n",
       "      <td>0.002570</td>\n",
       "      <td>0.000040</td>\n",
       "      <td>-4.046585</td>\n",
       "      <td>28.607430</td>\n",
       "      <td>-3.901387e-05</td>\n",
       "      <td>3</td>\n",
       "    </tr>\n",
       "    <tr>\n",
       "      <th>7</th>\n",
       "      <td>20</td>\n",
       "      <td>15</td>\n",
       "      <td>18</td>\n",
       "      <td>0.000133</td>\n",
       "      <td>0.000002</td>\n",
       "      <td>-5.332666</td>\n",
       "      <td>28.609867</td>\n",
       "      <td>-2.018920e-06</td>\n",
       "      <td>4</td>\n",
       "    </tr>\n",
       "  </tbody>\n",
       "</table>\n",
       "</div>"
      ],
      "text/plain": [
       "   Coupling length(um)  Input Position  Output Position  Power (mW)   \n",
       "0                   15               8                8    1.142000  \\\n",
       "1                   15               8                9    0.035400   \n",
       "2                   15               8               10    0.001189   \n",
       "3                   15               8               11    0.000058   \n",
       "4                   20              15               15    1.153000   \n",
       "5                   20              15               16    0.051200   \n",
       "6                   20              15               17    0.002570   \n",
       "7                   20              15               18    0.000133   \n",
       "\n",
       "   Error (mW)  log_fractional_power       loss      log_loss   \n",
       "0    0.013000             -1.398852  27.468000 -1.769082e-02  \\\n",
       "1    0.000270             -2.907515  28.574600 -5.376981e-04   \n",
       "2    0.000010             -4.381336  28.608811 -1.804917e-05   \n",
       "3    0.000001             -5.693090  28.609942 -8.804301e-07   \n",
       "4    0.007000             -1.394689  27.457000 -1.786477e-02   \n",
       "5    0.000500             -2.747248  28.558800 -7.779028e-04   \n",
       "6    0.000040             -4.046585  28.607430 -3.901387e-05   \n",
       "7    0.000002             -5.332666  28.609867 -2.018920e-06   \n",
       "\n",
       "   Relative Position  \n",
       "0                  1  \n",
       "1                  2  \n",
       "2                  3  \n",
       "3                  4  \n",
       "4                  1  \n",
       "5                  2  \n",
       "6                  3  \n",
       "7                  4  "
      ]
     },
     "execution_count": 96,
     "metadata": {},
     "output_type": "execute_result"
    }
   ],
   "source": [
    "df"
   ]
  },
  {
   "attachments": {},
   "cell_type": "markdown",
   "metadata": {},
   "source": [
    "## Sepereating data according to coupler length"
   ]
  },
  {
   "cell_type": "code",
   "execution_count": 97,
   "metadata": {},
   "outputs": [],
   "source": [
    "x_15 = df.loc[df[\"Coupling length(um)\"] == 15, \"Relative Position\"]\n",
    "y_15 = df.loc[df[\"Coupling length(um)\"] == 15, \"log_fractional_power\"]\n",
    "\n",
    "x_20 = df.loc[df[\"Coupling length(um)\"] == 20, \"Relative Position\"]\n",
    "y_20 = df.loc[df[\"Coupling length(um)\"] == 20, \"log_fractional_power\"]"
   ]
  },
  {
   "attachments": {},
   "cell_type": "markdown",
   "metadata": {},
   "source": [
    "## Regression analysis and construction of best fit lines"
   ]
  },
  {
   "cell_type": "code",
   "execution_count": 98,
   "metadata": {},
   "outputs": [],
   "source": [
    "slope_15, intercept_15, r_value_15, p_value_15, std_err_15 = stats.linregress(x_15, y_15)\n",
    "line_15 = slope_15 * x_15 + intercept_15\n",
    "eq_15 = \"y = \" + str(round(slope_15, 2)) + \"x + \" + str(round(intercept_15, 2))\n",
    "\n",
    "slope_20, intercept_20, r_value_20, p_value_20, std_err_20 = stats.linregress(x_20, y_20)\n",
    "line_20 = slope_20 * x_20 + intercept_20\n",
    "eq_20 = \"y = \" + str(round(slope_20, 2)) + \"x + \" + str(round(intercept_20, 2))\n",
    "\n"
   ]
  },
  {
   "cell_type": "code",
   "execution_count": 99,
   "metadata": {},
   "outputs": [],
   "source": [
    "df['Coupling length(um)'] = df['Coupling length(um)'].astype(str)\n",
    "df['Relative Position'] = df['Relative Position'].astype(int)"
   ]
  },
  {
   "attachments": {},
   "cell_type": "markdown",
   "metadata": {},
   "source": [
    "# Plotting points and lines via plotly"
   ]
  },
  {
   "cell_type": "code",
   "execution_count": 100,
   "metadata": {},
   "outputs": [
    {
     "data": {
      "application/vnd.plotly.v1+json": {
       "config": {
        "plotlyServerURL": "https://plot.ly"
       },
       "data": [
        {
         "hovertemplate": "Coupling length(um)=15<br>Relative Position=%{x}<br>log_fractional_power=%{y}<extra></extra>",
         "legendgroup": "15",
         "marker": {
          "color": "#636efa",
          "symbol": "circle"
         },
         "mode": "markers",
         "name": "15",
         "orientation": "v",
         "showlegend": true,
         "type": "scatter",
         "x": [
          1,
          2,
          3,
          4
         ],
         "xaxis": "x",
         "y": [
          -1.3988517538954335,
          -2.9075145957794746,
          -4.381336003186571,
          -5.693089864242325
         ],
         "yaxis": "y"
        },
        {
         "hovertemplate": "Coupling length(um)=20<br>Relative Position=%{x}<br>log_fractional_power=%{y}<extra></extra>",
         "legendgroup": "20",
         "marker": {
          "color": "#EF553B",
          "symbol": "circle"
         },
         "mode": "markers",
         "name": "20",
         "orientation": "v",
         "showlegend": true,
         "type": "scatter",
         "x": [
          1,
          2,
          3,
          4
         ],
         "xaxis": "x",
         "y": [
          -1.3946885505105637,
          -2.747247896829432,
          -4.046584734473968,
          -5.332666216838176
         ],
         "yaxis": "y"
        },
        {
         "line": {
          "color": "blue"
         },
         "mode": "lines",
         "name": "Regression Line for 15uM",
         "type": "scatter",
         "x": [
          1,
          2,
          3,
          4
         ],
         "y": [
          -1.441717693508785,
          -2.877371267353562,
          -4.313024841198339,
          -5.748678415043116
         ]
        },
        {
         "line": {
          "color": "red"
         },
         "mode": "lines",
         "name": "Regression Line for 20uM",
         "type": "scatter",
         "x": [
          1,
          2,
          3,
          4
         ],
         "y": [
          -1.4133063741689293,
          -2.724633357831667,
          -4.0359603414944045,
          -5.347287325157142
         ]
        }
       ],
       "layout": {
        "annotations": [
         {
          "font": {
           "color": "black",
           "family": "Arial",
           "size": 16
          },
          "text": "y = -1.44x + -0.01",
          "x": 4,
          "xanchor": "right",
          "y": -5.693089864242325,
          "yanchor": "bottom"
         },
         {
          "font": {
           "color": "black",
           "family": "Arial",
           "size": 16
          },
          "text": "y = -1.31x + -0.1",
          "x": 4,
          "xanchor": "right",
          "y": -5.332666216838176,
          "yanchor": "bottom"
         }
        ],
        "legend": {
         "title": {
          "text": "Coupling Length (uM)"
         },
         "tracegroupgap": 0
        },
        "margin": {
         "b": 50,
         "t": 60
        },
        "template": {
         "data": {
          "scatter": [
           {
            "type": "scatter"
           }
          ]
         }
        },
        "title": {
         "font": {
          "size": 18
         },
         "text": "Plot of output power vs number of coupler interactions",
         "x": 0.5
        },
        "xaxis": {
         "anchor": "y",
         "domain": [
          0,
          1
         ],
         "linecolor": "black",
         "linewidth": 2,
         "mirror": true,
         "showgrid": false,
         "showline": true,
         "tickcolor": "black",
         "ticklen": 10,
         "ticks": "inside",
         "tickwidth": 2,
         "title": {
          "standoff": 10,
          "text": "Coupler Interactions"
         }
        },
        "yaxis": {
         "anchor": "x",
         "domain": [
          0,
          1
         ],
         "linecolor": "black",
         "linewidth": 2,
         "mirror": true,
         "showline": true,
         "tickcolor": "black",
         "ticklen": 10,
         "ticks": "inside",
         "tickwidth": 2,
         "title": {
          "standoff": 10,
          "text": "log(P/Po)"
         }
        }
       }
      }
     },
     "metadata": {},
     "output_type": "display_data"
    }
   ],
   "source": [
    "fig = px.scatter(df, x='Relative Position', y='log_fractional_power', color='Coupling length(um)')\n",
    "fig.update_layout(title_text=\"Plot of output power vs number of coupler interactions\", title_font_size=18, title_x=0.5, template=\"none\", legend_title=\"Coupling Length (uM)\", margin_b=50, margin_t=60)\n",
    "fig.update_xaxes(showgrid=False, title_text=\"Coupler Interactions\", showline=True, linewidth=2, linecolor='black', mirror=True, ticks=\"inside\", tickwidth=2, tickcolor='black', ticklen=10, title_standoff=10)\n",
    "fig.update_yaxes(title_text=\"log(P/Po)\", showline=True, linewidth=2, linecolor='black', mirror=True, ticks=\"inside\", tickwidth=2, tickcolor='black', ticklen=10, title_standoff=10)\n",
    "fig.add_trace(go.Scatter(x=x_15, y=line_15, mode='lines', name='Regression Line for 15uM', line_color='blue'))\n",
    "fig.add_trace(go.Scatter(x=x_20, y=line_20, mode='lines', name='Regression Line for 20uM', line_color='red'))\n",
    "fig.add_annotation(x=max(x_15), y=min(y_15), xanchor='right', yanchor='bottom', text=eq_15, font=dict(family=\"Arial\", size=16, color=\"black\"))\n",
    "fig.add_annotation(x=max(x_20), y=min(y_20), xanchor='right', yanchor='bottom', text=eq_20, font=dict(family=\"Arial\", size=16, color=\"black\"))\n",
    "fig.show()"
   ]
  },
  {
   "attachments": {},
   "cell_type": "markdown",
   "metadata": {},
   "source": [
    "## Saving image and regression results"
   ]
  },
  {
   "cell_type": "code",
   "execution_count": 101,
   "metadata": {},
   "outputs": [],
   "source": [
    "# pio.write_image(fig, 'figure.svg')"
   ]
  },
  {
   "cell_type": "code",
   "execution_count": 102,
   "metadata": {},
   "outputs": [
    {
     "name": "stdout",
     "output_type": "stream",
     "text": [
      "   Coupler length(uM)     slope  intercept   r_value   std_err   \n",
      "0                  15 -1.435654  -0.006064 -0.999491  0.032408  \\\n",
      "1                  20 -1.311327  -0.101979 -0.999931  0.010884   \n",
      "\n",
      "             equation  \n",
      "0  y = -1.44x + -0.01  \n",
      "1   y = -1.31x + -0.1  \n"
     ]
    }
   ],
   "source": [
    "regression_results = {\n",
    "    \"Coupler length(uM)\": [15,20],\n",
    "    \"slope\": [slope_15, slope_20],\n",
    "    \"intercept\": [intercept_15, intercept_20],\n",
    "    \"r_value\": [r_value_15, r_value_20],\n",
    "    \"std_err\": [std_err_15, std_err_20],\n",
    "    \"equation\": [eq_15, eq_20]\n",
    "}\n",
    "\n",
    "# Create a pandas dataframe from the dictionary\n",
    "df_regression_results = pd.DataFrame(regression_results)\n",
    "\n",
    "# Display the dataframe\n",
    "print(df_regression_results)"
   ]
  },
  {
   "cell_type": "code",
   "execution_count": 103,
   "metadata": {},
   "outputs": [],
   "source": [
    "metadata_2 = f\"Input Power (mW) = {input_power} +/- {input_power_error}\"\n",
    "metadata_1 = \"R42-D103\"\n",
    "df_str = io.StringIO()\n",
    "df_regression_results.to_csv(df_str, header=True, index=False, sep='\\t')\n",
    "df_with_metadata = metadata_1 + \"\\n\" + metadata_2 + \"\\n\" + df_str.getvalue()\n",
    "\n",
    "with open(\"T5-R42-D103\", \"w\") as f:\n",
    "    f.write(df_with_metadata)"
   ]
  }
 ],
 "metadata": {
  "kernelspec": {
   "display_name": "data",
   "language": "python",
   "name": "python3"
  },
  "language_info": {
   "codemirror_mode": {
    "name": "ipython",
    "version": 3
   },
   "file_extension": ".py",
   "mimetype": "text/x-python",
   "name": "python",
   "nbconvert_exporter": "python",
   "pygments_lexer": "ipython3",
   "version": "3.11.3"
  },
  "orig_nbformat": 4
 },
 "nbformat": 4,
 "nbformat_minor": 2
}
